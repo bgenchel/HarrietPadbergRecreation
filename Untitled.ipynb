{
 "cells": [
  {
   "cell_type": "code",
   "execution_count": 4,
   "metadata": {},
   "outputs": [],
   "source": [
    "import librosa as lb\n",
    "import numpy as np\n",
    "\n",
    "one, sr = lb.load('audio/1.wav') ## loads audio file\n",
    "two, sr = lb.load('audio/2.wav') ## loads audio file\n",
    "three, sr = lb.load('audio/3.wav') ## loads audio file\n",
    "\n",
    "soundtypes =  {\n",
    "    \"one\": one,\n",
    "    \"two\": two,\n",
    "    \"three\": three\n",
    "}"
   ]
  },
  {
   "cell_type": "code",
   "execution_count": 104,
   "metadata": {},
   "outputs": [],
   "source": [
    "\n",
    "def synth(frequencies, durations, soundtype, canon):\n",
    "\n",
    "    pitches = lb.core.hz_to_midi(frequencies) % 60\n",
    "    \n",
    "    durationMod = [(x % 32)/8 + 1 for x in durations]\n",
    "    \n",
    "    canonStart = sum(durationMod[0:2])\n",
    "    \n",
    "    new_sample = soundtypes[soundtype]\n",
    "    new_phrase = []\n",
    "    new_phrase_two =[]\n",
    "    new_phrase_three=[]\n",
    "    new_phrase_four=[]\n",
    "    new_sample_shift = []\n",
    "\n",
    "    for p, l in zip(pitches, durationMod):\n",
    "        new_sample_shift = lb.effects.pitch_shift(new_sample, sr, n_steps=p)\n",
    "        new_sample_shift = lb.effects.time_stretch(new_sample_shift, l)\n",
    "        new_phrase = np.append(new_phrase, new_sample_shift)\n",
    "\n",
    "    if canon == 2:\n",
    "        new_phrase_two = np.insert(new_phrase,0,np.zeros(int(canonStart*11025.0)))\n",
    "    \n",
    "    if canon == 3:\n",
    "        new_phrase_three = np.insert(new_phrase,0,np.zeros(int(canonStart*11025.0*2))) \n",
    "        \n",
    "    if canon == 4:\n",
    "        new_phrase_four = np.insert(new_phrase,0,np.zeros(int(canonStart*11025.0*3)))   \n",
    "\n",
    "    lb.output.write_wav('temp.wav', new_phrase, sr, norm=False) #\n",
    "    lb.output.write_wav('temp2.wav', new_phrase_two, sr, norm=False)\n",
    "    lb.output.write_wav('temp3.wav', new_phrase_two, sr, norm=False)\n",
    "    lb.output.write_wav('temp4.wav', new_phrase_two, sr, norm=False)"
   ]
  },
  {
   "cell_type": "code",
   "execution_count": 105,
   "metadata": {},
   "outputs": [],
   "source": [
    "synth([440, 450, 500], [4,200,300],three, 2)"
   ]
  },
  {
   "cell_type": "code",
   "execution_count": 73,
   "metadata": {},
   "outputs": [
    {
     "data": {
      "text/plain": [
       "array([0., 0., 0., ..., 0., 0., 0.])"
      ]
     },
     "execution_count": 73,
     "metadata": {},
     "output_type": "execute_result"
    }
   ],
   "source": []
  },
  {
   "cell_type": "code",
   "execution_count": 76,
   "metadata": {},
   "outputs": [],
   "source": [
    "x = [1]\n",
    "\n",
    "x.insert(0, np.zeros(100))"
   ]
  },
  {
   "cell_type": "code",
   "execution_count": 77,
   "metadata": {},
   "outputs": [
    {
     "data": {
      "text/plain": [
       "[array([0., 0., 0., 0., 0., 0., 0., 0., 0., 0., 0., 0., 0., 0., 0., 0., 0.,\n",
       "        0., 0., 0., 0., 0., 0., 0., 0., 0., 0., 0., 0., 0., 0., 0., 0., 0.,\n",
       "        0., 0., 0., 0., 0., 0., 0., 0., 0., 0., 0., 0., 0., 0., 0., 0., 0.,\n",
       "        0., 0., 0., 0., 0., 0., 0., 0., 0., 0., 0., 0., 0., 0., 0., 0., 0.,\n",
       "        0., 0., 0., 0., 0., 0., 0., 0., 0., 0., 0., 0., 0., 0., 0., 0., 0.,\n",
       "        0., 0., 0., 0., 0., 0., 0., 0., 0., 0., 0., 0., 0., 0., 0.]), 1]"
      ]
     },
     "execution_count": 77,
     "metadata": {},
     "output_type": "execute_result"
    }
   ],
   "source": [
    "x"
   ]
  },
  {
   "cell_type": "code",
   "execution_count": null,
   "metadata": {},
   "outputs": [],
   "source": []
  }
 ],
 "metadata": {
  "kernelspec": {
   "display_name": "Python [conda env:shimi]",
   "language": "python",
   "name": "conda-env-shimi-py"
  },
  "language_info": {
   "codemirror_mode": {
    "name": "ipython",
    "version": 3
   },
   "file_extension": ".py",
   "mimetype": "text/x-python",
   "name": "python",
   "nbconvert_exporter": "python",
   "pygments_lexer": "ipython3",
   "version": "3.6.6"
  }
 },
 "nbformat": 4,
 "nbformat_minor": 2
}
